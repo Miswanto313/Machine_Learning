{
  "nbformat": 4,
  "nbformat_minor": 0,
  "metadata": {
    "colab": {
      "name": "SKLearn Cross Validation Split.ipynb",
      "provenance": [],
      "authorship_tag": "ABX9TyMSA+3KIVpnzlFneSaGDux1",
      "include_colab_link": true
    },
    "kernelspec": {
      "name": "python3",
      "display_name": "Python 3"
    }
  },
  "cells": [
    {
      "cell_type": "markdown",
      "metadata": {
        "id": "view-in-github",
        "colab_type": "text"
      },
      "source": [
        "<a href=\"https://colab.research.google.com/github/Miswanto313/Machine_Learning/blob/main/SKLearn_Cross_Validation_Split.ipynb\" target=\"_parent\"><img src=\"https://colab.research.google.com/assets/colab-badge.svg\" alt=\"Open In Colab\"/></a>"
      ]
    },
    {
      "cell_type": "markdown",
      "metadata": {
        "id": "_hmk5mYhav6M"
      },
      "source": [
        "Library yang dibutuhkan"
      ]
    },
    {
      "cell_type": "code",
      "metadata": {
        "id": "dwC7_VtNXR1-"
      },
      "source": [
        "import sklearn\n",
        "from sklearn import datasets\n",
        "from sklearn.model_selection import cross_val_score\n",
        "from sklearn import  tree\n",
        "iris = datasets.load_iris()"
      ],
      "execution_count": 17,
      "outputs": []
    },
    {
      "cell_type": "markdown",
      "metadata": {
        "id": "v3AcyEdAamUx"
      },
      "source": [
        "Membagi antara atribut dan label pada dataset"
      ]
    },
    {
      "cell_type": "code",
      "metadata": {
        "id": "KkUIJCrQYes3"
      },
      "source": [
        "x=iris.data\n",
        "y=iris.target"
      ],
      "execution_count": 14,
      "outputs": []
    },
    {
      "cell_type": "markdown",
      "metadata": {
        "id": "ZAdiBsdzaj6F"
      },
      "source": [
        "Membuat model machine learning pertama kita yaitu decision tree, menggunakan library scikit learn. Model machine learning juga sering disebut sebagai classifier. Lebih lanjut, variabel clf adalah singkatan dari classifier"
      ]
    },
    {
      "cell_type": "code",
      "metadata": {
        "id": "sf2sAA-4YmhG"
      },
      "source": [
        "clf = tree.DecisionTreeClassifier()"
      ],
      "execution_count": 15,
      "outputs": []
    },
    {
      "cell_type": "markdown",
      "metadata": {
        "id": "6C9Xj8VYaaGg"
      },
      "source": [
        "Setelah dataset dan model siap, kita bisa menggunakan cross validation untuk mengevaluasi performa dari model machine learning. Fungsi cross_val_score() seperti di bawah menerima 4 parameter yaitu, ‘clf’ yang merupakan model machine learning, ‘X’ yang merupakan atribut dari dataset, ‘y’ yang merupakan label dari dataset, dan ‘cv’ yang merupakan jumlah fold yang akan dipakai pada cross validation"
      ]
    },
    {
      "cell_type": "code",
      "metadata": {
        "id": "AfNl4FTHYwBE"
      },
      "source": [
        "scores = cross_val_score(clf, x, y, cv=5)"
      ],
      "execution_count": 18,
      "outputs": []
    },
    {
      "cell_type": "markdown",
      "metadata": {
        "id": "NW67tfeJaEuF"
      },
      "source": [
        "**scores** di gunakan untuk mencetak dan mengetahui hasil"
      ]
    },
    {
      "cell_type": "code",
      "metadata": {
        "id": "5bIS3qkaZ52P",
        "outputId": "7732059e-0c26-49f3-e3c9-c2c45cc8fa74",
        "colab": {
          "base_uri": "https://localhost:8080/",
          "height": 34
        }
      },
      "source": [
        "scores"
      ],
      "execution_count": 19,
      "outputs": [
        {
          "output_type": "execute_result",
          "data": {
            "text/plain": [
              "array([0.96666667, 0.96666667, 0.9       , 1.        , 1.        ])"
            ]
          },
          "metadata": {
            "tags": []
          },
          "execution_count": 19
        }
      ]
    }
  ]
}