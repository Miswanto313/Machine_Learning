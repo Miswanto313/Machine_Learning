{
  "nbformat": 4,
  "nbformat_minor": 0,
  "metadata": {
    "colab": {
      "name": "SKLearn with Grid Search.ipynb",
      "provenance": [],
      "authorship_tag": "ABX9TyP/8ZQjPxuHm7jBRX2rHjh7",
      "include_colab_link": true
    },
    "kernelspec": {
      "name": "python3",
      "display_name": "Python 3"
    }
  },
  "cells": [
    {
      "cell_type": "markdown",
      "metadata": {
        "id": "view-in-github",
        "colab_type": "text"
      },
      "source": [
        "<a href=\"https://colab.research.google.com/github/Miswanto313/Machine_Learning/blob/main/SKLearn_with_Grid_Search.ipynb\" target=\"_parent\"><img src=\"https://colab.research.google.com/assets/colab-badge.svg\" alt=\"Open In Colab\"/></a>"
      ]
    },
    {
      "cell_type": "markdown",
      "metadata": {
        "id": "xOBai2DuXvVd"
      },
      "source": [
        "Dataset yang akan kita gunakan adalah data lama kerja seseorang dan gajinya. Dataset ini dapat diunduh pada [tautan](https://www.kaggle.com/karthickveerakumar/salary-data-simple-linear-regression) berikut"
      ]
    },
    {
      "cell_type": "markdown",
      "metadata": {
        "id": "7OtEObPzYAOQ"
      },
      "source": [
        "Import library dasar yang digunakn"
      ]
    },
    {
      "cell_type": "code",
      "metadata": {
        "id": "YVrQoHpuPyOB"
      },
      "source": [
        "import pandas as pd"
      ],
      "execution_count": 1,
      "outputs": []
    },
    {
      "cell_type": "code",
      "metadata": {
        "id": "PXup4KBvTllr"
      },
      "source": [
        "from sklearn.model_selection import train_test_split\n"
      ],
      "execution_count": 2,
      "outputs": []
    },
    {
      "cell_type": "code",
      "metadata": {
        "id": "Jm8uabO4T16p"
      },
      "source": [
        "from sklearn.preprocessing import StandardScaler"
      ],
      "execution_count": 3,
      "outputs": []
    },
    {
      "cell_type": "markdown",
      "metadata": {
        "id": "Mw7HTeqVYZlF"
      },
      "source": [
        "Ubah berkas dataset menjadi dataframe."
      ]
    },
    {
      "cell_type": "code",
      "metadata": {
        "id": "rWvMhkoyT_zs"
      },
      "source": [
        "data = pd.read_csv('/content/sample_data/Salary_Data.csv')"
      ],
      "execution_count": 4,
      "outputs": []
    },
    {
      "cell_type": "markdown",
      "metadata": {
        "id": "nKaAe7PTYhZ3"
      },
      "source": [
        "Mengimpor library numpy"
      ]
    },
    {
      "cell_type": "code",
      "metadata": {
        "id": "-a-Fg8nWUKdz"
      },
      "source": [
        "import numpy as np\n"
      ],
      "execution_count": 5,
      "outputs": []
    },
    {
      "cell_type": "markdown",
      "metadata": {
        "id": "ZIlaHyYzYl8L"
      },
      "source": [
        "Pisahkan atribut dan label pada dataset"
      ]
    },
    {
      "cell_type": "code",
      "metadata": {
        "id": "_5aUOfRVUS8N"
      },
      "source": [
        "X = data['YearsExperience']\n",
        "y = data['Salary']"
      ],
      "execution_count": 6,
      "outputs": []
    },
    {
      "cell_type": "markdown",
      "metadata": {
        "id": "s3bHbtLKY_NN"
      },
      "source": [
        "Jika hanya terdapat 1 atribut pada dataset kita perlu mengubah bentuknya agar bisa dipakai pada pelatihan model"
      ]
    },
    {
      "cell_type": "code",
      "metadata": {
        "id": "pfqObDaNUa7e",
        "outputId": "86fa2765-4465-4ee7-e67f-039e056c96f4",
        "colab": {
          "base_uri": "https://localhost:8080/",
          "height": 71
        }
      },
      "source": [
        "X = X[:, np.newaxis]"
      ],
      "execution_count": 7,
      "outputs": [
        {
          "output_type": "stream",
          "text": [
            "/usr/local/lib/python3.6/dist-packages/ipykernel_launcher.py:1: FutureWarning: Support for multi-dimensional indexing (e.g. `obj[:, None]`) is deprecated and will be removed in a future version.  Convert to a numpy array before indexing instead.\n",
            "  \"\"\"Entry point for launching an IPython kernel.\n"
          ],
          "name": "stderr"
        }
      ]
    },
    {
      "cell_type": "markdown",
      "metadata": {
        "id": "rjzBOWuxZJLh"
      },
      "source": [
        "impor library GridSearchCV dari sklearn.model_selection"
      ]
    },
    {
      "cell_type": "code",
      "metadata": {
        "id": "zMZbuyNpUsT3"
      },
      "source": [
        "from sklearn.model_selection import GridSearchCV"
      ],
      "execution_count": 8,
      "outputs": []
    },
    {
      "cell_type": "markdown",
      "metadata": {
        "id": "OWuForUTZfJF"
      },
      "source": [
        "Mbuat model yang ingin kita uji dengan grid search dalam hal ini model SVR"
      ]
    },
    {
      "cell_type": "code",
      "metadata": {
        "id": "-c-i8k8BU14N"
      },
      "source": [
        "from sklearn.svm import SVR"
      ],
      "execution_count": 10,
      "outputs": []
    },
    {
      "cell_type": "code",
      "metadata": {
        "id": "RC51sHZpU_RU"
      },
      "source": [
        "model = SVR()"
      ],
      "execution_count": 11,
      "outputs": []
    },
    {
      "cell_type": "markdown",
      "metadata": {
        "id": "2Jd9_yvxZvZp"
      },
      "source": [
        "Kemudian kita buat sebuah python dictionary yang berisi nama parameter yang akan diuji, serta nilai-nilainya. Selanjutnya kita buat objek grid search dan mengisi parameter-parameternya. Parameter pertama adalah model yang akan kita uji"
      ]
    },
    {
      "cell_type": "code",
      "metadata": {
        "id": "pth483iFVI6Y"
      },
      "source": [
        "parameters = {\n",
        "    'kernel': ['rbf'],\n",
        "    'C' : [1000, 10000, 100000],\n",
        "    'gamma' : [0.5, 0.05, 0.005]\n",
        "}"
      ],
      "execution_count": 13,
      "outputs": []
    },
    {
      "cell_type": "markdown",
      "metadata": {
        "id": "Q3lS9YMdZxXN"
      },
      "source": [
        "Parameter kedua adalah dictionary yang berisi kumpulan parameter dari model yang akan diuji."
      ]
    },
    {
      "cell_type": "code",
      "metadata": {
        "id": "YjWXEOeFV2XM"
      },
      "source": [
        "grid_search = GridSearchCV(model, parameters)"
      ],
      "execution_count": 14,
      "outputs": []
    },
    {
      "cell_type": "markdown",
      "metadata": {
        "id": "5kAcxEzqaC4U"
      },
      "source": [
        "Panggil fungsi fit() pada objek grid search yang telah kita buat."
      ]
    },
    {
      "cell_type": "code",
      "metadata": {
        "id": "gQxCKZdqWKAs",
        "outputId": "15270431-2ba1-46ed-9f91-fbe1d0773f66",
        "colab": {
          "base_uri": "https://localhost:8080/",
          "height": 187
        }
      },
      "source": [
        "grid_search.fit(X, y)"
      ],
      "execution_count": 15,
      "outputs": [
        {
          "output_type": "execute_result",
          "data": {
            "text/plain": [
              "GridSearchCV(cv=None, error_score=nan,\n",
              "             estimator=SVR(C=1.0, cache_size=200, coef0=0.0, degree=3,\n",
              "                           epsilon=0.1, gamma='scale', kernel='rbf',\n",
              "                           max_iter=-1, shrinking=True, tol=0.001,\n",
              "                           verbose=False),\n",
              "             iid='deprecated', n_jobs=None,\n",
              "             param_grid={'C': [1000, 10000, 100000],\n",
              "                         'gamma': [0.5, 0.05, 0.005], 'kernel': ['rbf']},\n",
              "             pre_dispatch='2*n_jobs', refit=True, return_train_score=False,\n",
              "             scoring=None, verbose=0)"
            ]
          },
          "metadata": {
            "tags": []
          },
          "execution_count": 15
        }
      ]
    },
    {
      "cell_type": "markdown",
      "metadata": {
        "id": "c99IbLLcaLZU"
      },
      "source": [
        "Setelah grid search mencari parameter terbaik pada model, kita bisa menampilkan parameter terbaik dengan memanggil atribut best_params_ dari objek grid search"
      ]
    },
    {
      "cell_type": "code",
      "metadata": {
        "id": "znXdwcVpWRUg",
        "outputId": "c1142f84-4180-47c6-8c89-d2dd0e9d7783",
        "colab": {
          "base_uri": "https://localhost:8080/",
          "height": 34
        }
      },
      "source": [
        "print(grid_search.best_params_)"
      ],
      "execution_count": 16,
      "outputs": [
        {
          "output_type": "stream",
          "text": [
            "{'C': 100000, 'gamma': 0.005, 'kernel': 'rbf'}\n"
          ],
          "name": "stdout"
        }
      ]
    },
    {
      "cell_type": "markdown",
      "metadata": {
        "id": "05gfHR8baUX0"
      },
      "source": [
        "Membuat model SVM baru dengan parameter hasil grid search dan melatihnya pada data."
      ]
    },
    {
      "cell_type": "code",
      "metadata": {
        "id": "-ImlQImGWdk6"
      },
      "source": [
        "model_baru = SVR(C = 100000, gamma= 0.005, kernel = 'rbf')"
      ],
      "execution_count": 17,
      "outputs": []
    },
    {
      "cell_type": "code",
      "metadata": {
        "id": "UMCuJv6KWuHJ",
        "outputId": "912ddd8f-eb8f-4233-f2a4-11ba5e4ea0de",
        "colab": {
          "base_uri": "https://localhost:8080/",
          "height": 51
        }
      },
      "source": [
        "model_baru.fit(X, y)"
      ],
      "execution_count": 18,
      "outputs": [
        {
          "output_type": "execute_result",
          "data": {
            "text/plain": [
              "SVR(C=100000, cache_size=200, coef0=0.0, degree=3, epsilon=0.1, gamma=0.005,\n",
              "    kernel='rbf', max_iter=-1, shrinking=True, tol=0.001, verbose=False)"
            ]
          },
          "metadata": {
            "tags": []
          },
          "execution_count": 18
        }
      ]
    },
    {
      "cell_type": "code",
      "metadata": {
        "id": "8bzopqpTW4z7"
      },
      "source": [
        "import matplotlib.pyplot as plt\n"
      ],
      "execution_count": 19,
      "outputs": []
    },
    {
      "cell_type": "code",
      "metadata": {
        "id": "IoiCcqzVW94I",
        "outputId": "f08e7d53-1447-4063-ff93-7bb35738eafe",
        "colab": {
          "base_uri": "https://localhost:8080/",
          "height": 282
        }
      },
      "source": [
        "plt.scatter(X, y)"
      ],
      "execution_count": 20,
      "outputs": [
        {
          "output_type": "execute_result",
          "data": {
            "text/plain": [
              "<matplotlib.collections.PathCollection at 0x7f99f7523f98>"
            ]
          },
          "metadata": {
            "tags": []
          },
          "execution_count": 20
        },
        {
          "output_type": "display_data",
          "data": {
            "image/png": "[encoded data removed]",
            "text/plain": [
              "<Figure size 432x288 with 1 Axes>"
            ]
          },
          "metadata": {
            "tags": [],
            "needs_background": "light"
          }
        }
      ]
    },
    {
      "cell_type": "code",
      "metadata": {
        "id": "hMy7EJQcXJFA",
        "outputId": "37d9ae97-cc31-4c30-f5a9-0a0f3e5d0f5e",
        "colab": {
          "base_uri": "https://localhost:8080/",
          "height": 282
        }
      },
      "source": [
        "plt.plot(X, model_baru.predict(X))"
      ],
      "execution_count": 21,
      "outputs": [
        {
          "output_type": "execute_result",
          "data": {
            "text/plain": [
              "[<matplotlib.lines.Line2D at 0x7f99f7493320>]"
            ]
          },
          "metadata": {
            "tags": []
          },
          "execution_count": 21
        },
        {
          "output_type": "display_data",
          "data": {
            "image/png": "[encoded data removed]",
            "text/plain": [
              "<Figure size 432x288 with 1 Axes>"
            ]
          },
          "metadata": {
            "tags": [],
            "needs_background": "light"
          }
        }
      ]
    },
    {
      "cell_type": "markdown",
      "metadata": {
        "id": "gB5XoPppahg5"
      },
      "source": [
        "Memvisualisasikan SVR dengan parameter hasil grid search. "
      ]
    },
    {
      "cell_type": "code",
      "metadata": {
        "id": "FkfHKDkyXZwr",
        "outputId": "85eef8b5-c7ef-4aaa-d5fb-957bf7748620",
        "colab": {
          "base_uri": "https://localhost:8080/",
          "height": 282
        }
      },
      "source": [
        "plt.scatter(X, y)\n",
        "plt.plot(X, model_baru.predict(X))"
      ],
      "execution_count": 22,
      "outputs": [
        {
          "output_type": "execute_result",
          "data": {
            "text/plain": [
              "[<matplotlib.lines.Line2D at 0x7f99f7499748>]"
            ]
          },
          "metadata": {
            "tags": []
          },
          "execution_count": 22
        },
        {
          "output_type": "display_data",
          "data": {
            "image/png": "[encoded data removed]",
            "text/plain": [
              "<Figure size 432x288 with 1 Axes>"
            ]
          },
          "metadata": {
            "tags": [],
            "needs_background": "light"
          }
        }
      ]
    },
    {
      "cell_type": "markdown",
      "metadata": {
        "id": "bAWwVqXeap-G"
      },
      "source": [
        "Dapat dilihat dari hasil plot bahwa grid search berhasil mencari parameter yang lebih baik sehingga meningkatkan performa dari model"
      ]
    }
  ]
}