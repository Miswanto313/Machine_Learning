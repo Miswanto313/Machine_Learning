{
  "nbformat": 4,
  "nbformat_minor": 0,
  "metadata": {
    "colab": {
      "name": "SKLearn PCA.ipynb",
      "provenance": [],
      "authorship_tag": "ABX9TyNJmhBF3+UeYA0inmZ4Zc7B",
      "include_colab_link": true
    },
    "kernelspec": {
      "name": "python3",
      "display_name": "Python 3"
    }
  },
  "cells": [
    {
      "cell_type": "markdown",
      "metadata": {
        "id": "view-in-github",
        "colab_type": "text"
      },
      "source": [
        "<a href=\"https://colab.research.google.com/github/Miswanto313/Machine_Learning/blob/main/SKLearn_PCA.ipynb\" target=\"_parent\"><img src=\"https://colab.research.google.com/assets/colab-badge.svg\" alt=\"Open In Colab\"/></a>"
      ]
    },
    {
      "cell_type": "markdown",
      "metadata": {
        "id": "aMhX2uM6nia1"
      },
      "source": [
        "Impor library yang dibutuhkan"
      ]
    },
    {
      "cell_type": "code",
      "metadata": {
        "id": "jI0Zqcx3yhx-"
      },
      "source": [
        "from sklearn.decomposition import PCA\n",
        "from sklearn.model_selection import train_test_split\n",
        "from sklearn import datasets"
      ],
      "execution_count": 46,
      "outputs": []
    },
    {
      "cell_type": "markdown",
      "metadata": {
        "id": "KIoy7vMZnrTc"
      },
      "source": [
        "Masukkan data dan bagi data menjadi train set dan test set."
      ]
    },
    {
      "cell_type": "code",
      "metadata": {
        "id": "z1Hox3medytj"
      },
      "source": [
        "iris = datasets.load_iris()\n",
        "atribut = iris.data\n",
        "label = iris.target\n",
        "# bagi dataset menjadi train set dan test set\n",
        "X_train, X_test, y_train, y_test = train_test_split(atribut, label, test_size=0.2)"
      ],
      "execution_count": 47,
      "outputs": []
    },
    {
      "cell_type": "markdown",
      "metadata": {
        "id": "cs8v0v7Ln6Px"
      },
      "source": [
        "Model Decision Tree dan menghitung berapa akurasinya tanpa menggunakan PCA"
      ]
    },
    {
      "cell_type": "code",
      "metadata": {
        "id": "20kNqtRXjnC6",
        "outputId": "7623cb4e-4726-4382-b0dd-45218069bd60",
        "colab": {
          "base_uri": "https://localhost:8080/",
          "height": 34
        }
      },
      "source": [
        "from sklearn import tree\n",
        "decision_tree = tree.DecisionTreeClassifier()\n",
        "model_pertama = decision_tree.fit(X_train, y_train)\n",
        "model_pertama.score(X_test, y_test)"
      ],
      "execution_count": 48,
      "outputs": [
        {
          "output_type": "execute_result",
          "data": {
            "text/plain": [
              "0.9666666666666667"
            ]
          },
          "metadata": {
            "tags": []
          },
          "execution_count": 48
        }
      ]
    },
    {
      "cell_type": "markdown",
      "metadata": {
        "id": "u_i2KZJ-qs9H"
      },
      "source": [
        "Menggunakan PCA dan menghitung variance dari setiap atribut."
      ]
    },
    {
      "cell_type": "code",
      "metadata": {
        "id": "mkHsEqX8pUkd"
      },
      "source": [
        "#membuat objek pca dengan 4 principal component\n",
        "pca = PCA(n_components = 4)"
      ],
      "execution_count": 52,
      "outputs": []
    },
    {
      "cell_type": "code",
      "metadata": {
        "id": "MZ02B1U8pmIV"
      },
      "source": [
        "#mengaplikasikan pca dengan dataset\n",
        "pca_attribut = pca.fit_transform(X_train)"
      ],
      "execution_count": 53,
      "outputs": []
    },
    {
      "cell_type": "code",
      "metadata": {
        "id": "13st5wQjpz-z",
        "outputId": "c9a527b3-b265-46ca-f954-badb19b82e69",
        "colab": {
          "base_uri": "https://localhost:8080/",
          "height": 34
        }
      },
      "source": [
        "#melihat variance dari setiap atribut\n",
        "pca.explained_variance_ratio_"
      ],
      "execution_count": 54,
      "outputs": [
        {
          "output_type": "execute_result",
          "data": {
            "text/plain": [
              "array([0.92324912, 0.0558526 , 0.0155923 , 0.00530599])"
            ]
          },
          "metadata": {
            "tags": []
          },
          "execution_count": 54
        }
      ]
    },
    {
      "cell_type": "markdown",
      "metadata": {
        "id": "y6eJL7EpqMG1"
      },
      "source": [
        "Hasilnya adalah 1 atribut memiliki variance sebesar 0.92, yang berarti atribut tersebut menyimpan informasi yang tinggi dan jauh lebih signifikan dari atribut lain"
      ]
    },
    {
      "cell_type": "markdown",
      "metadata": {
        "id": "wTdqMIh9n-pj"
      },
      "source": [
        "Melihat dari variance sebelumnya kita bisa mengambil 2 principal component terbaik karena total variance nya adalah 0.969 yang sudah cukup tinggi"
      ]
    },
    {
      "cell_type": "code",
      "metadata": {
        "id": "FY0klDkDj_Vv"
      },
      "source": [
        "pca = PCA(n_components = 2)\n",
        "X_train_pca = pca.fit_transform(X_train)\n",
        "X_test_pca = pca.fit_transform(X_test)"
      ],
      "execution_count": 49,
      "outputs": []
    },
    {
      "cell_type": "markdown",
      "metadata": {
        "id": "imLbQvwLoXDR"
      },
      "source": [
        "Menguji akurasi dari classifier setelah menggunakan PCA."
      ]
    },
    {
      "cell_type": "code",
      "metadata": {
        "id": "7mUdvPvCl__T",
        "outputId": "3fda8b19-4e11-4520-a4be-a50df91adfb1",
        "colab": {
          "base_uri": "https://localhost:8080/",
          "height": 34
        }
      },
      "source": [
        "model2 = decision_tree.fit(X_train_pca, y_train)\n",
        "model2.score(X_test_pca, y_test)"
      ],
      "execution_count": 51,
      "outputs": [
        {
          "output_type": "execute_result",
          "data": {
            "text/plain": [
              "0.9"
            ]
          },
          "metadata": {
            "tags": []
          },
          "execution_count": 50
        },
        {
          "output_type": "execute_result",
          "data": {
            "text/plain": [
              "0.9"
            ]
          },
          "metadata": {
            "tags": []
          },
          "execution_count": 51
        }
      ]
    },
    {
      "cell_type": "markdown",
      "metadata": {
        "id": "6kKUPAAOrAbo"
      },
      "source": [
        "Dari percobaan di atas bisa kita lihat bahwa dengan hanya 2 principal component atau 2 atribut saja model masih memiliki akurasi yang tinggi. Dengan principal component kamu bisa mengurangi atribut yang kurang signifikan dalam prediksi dan mempercepat waktu pelatihan sebuah model machine learning."
      ]
    }
  ]
}